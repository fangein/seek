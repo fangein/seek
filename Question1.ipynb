{
 "cells": [
  {
   "cell_type": "code",
   "execution_count": 1,
   "metadata": {},
   "outputs": [],
   "source": [
    "#Input numbers\n",
    "numbers = [1,2,4,5]\n",
    "numbers_duplicate = [1,2,3,4,4]"
   ]
  },
  {
   "cell_type": "code",
   "execution_count": 2,
   "metadata": {},
   "outputs": [],
   "source": [
    "#Function to sum up a given set of numbers other than itself.\n",
    "def sum_numbers(li):\n",
    "    #For performance, precompute the sum. \n",
    "    s = sum(li)\n",
    "    return [sum(li) - num for num in li]"
   ]
  },
  {
   "cell_type": "code",
   "execution_count": 3,
   "metadata": {},
   "outputs": [],
   "source": [
    "def sum_numbers_nodup (no):\n",
    "    #For performance, precompute the sum. \n",
    "    s = sum(no)\n",
    "    return [s - (no.count(num) * num) for num in no]"
   ]
  },
  {
   "cell_type": "code",
   "execution_count": 4,
   "metadata": {},
   "outputs": [
    {
     "name": "stdout",
     "output_type": "stream",
     "text": [
      "Number list: [1, 2, 4, 5]\n",
      "Sum of numbers other than itself: [11, 10, 8, 7]\n",
      "Sum of numbers (no duplicates): [13, 12, 11, 6, 6]\n"
     ]
    }
   ],
   "source": [
    "print \"Number list:\", numbers \n",
    "print \"Sum of numbers other than itself:\", sum_numbers(numbers)\n",
    "print \"Sum of numbers (no duplicates):\", sum_numbers_nodup(numbers_duplicate)"
   ]
  }
 ],
 "metadata": {
  "kernelspec": {
   "display_name": "Python 2",
   "language": "python",
   "name": "python2"
  },
  "language_info": {
   "codemirror_mode": {
    "name": "ipython",
    "version": 2
   },
   "file_extension": ".py",
   "mimetype": "text/x-python",
   "name": "python",
   "nbconvert_exporter": "python",
   "pygments_lexer": "ipython2",
   "version": "2.7.15"
  }
 },
 "nbformat": 4,
 "nbformat_minor": 2
}
